{
 "cells": [
  {
   "attachments": {},
   "cell_type": "markdown",
   "metadata": {},
   "source": [
    "# Diamonds are a girl's best friend\n",
    "\n",
    "We love diamonds. <img src=\"diamond.jpg\" alt=\"drawing\" width=\"200px\"/>\n",
    "\n",
    "## Diamond's characteristics\n",
    "\n",
    "Name    | Descriptions\n",
    "--------|--------\n",
    "Carat   | Weight of the diamond in carats\n",
    "Cut\t    | Describe the cut quality of the diamond. Quality in increasing order **Fair**, **Good**, **Very Good**, **Premium**, **Ideal**\n",
    "color\t| Color of the diamond, with **D** being the best and **J** the worst\n",
    "clarity\t| How obvious inclusions are within the diamond:(in order from best to worst, FL = flawless, I3= level 3 inclusions) **FL**, **IF**, **VVS1**, **VVS2**, **VS1**, **VS2**, **SI1**, **SI2**, **I1**, **I2**, **I3**\n",
    "depth\t| depth % :The height of a diamond, measured from the culet to the table, divided by its average girdle diameter\n",
    "table   | table %: The width of the diamond's table expressed as a percentage of its average diameter\n",
    "price\t| The price of the diamond in muggle money\n",
    "x\t    | Length of the diamond in mm\n",
    "y\t    | Width of the diamond in mm\n",
    "z\t    | Depth of the diamond in mm\n",
    "\n",
    "<img src=\"diamond-dimensions.gif\" alt=\"diamonds dimension\" width=\"300px\"/>\n",
    "\n",
    "\n",
    "Let's start here."
   ]
  },
  {
   "cell_type": "code",
   "execution_count": 9,
   "metadata": {},
   "outputs": [
    {
     "name": "stdout",
     "output_type": "stream",
     "text": [
      "<class 'pandas.core.frame.DataFrame'>\n",
      "RangeIndex: 53930 entries, 0 to 53929\n",
      "Data columns (total 10 columns):\n",
      "carat      53930 non-null float64\n",
      "cut        53930 non-null object\n",
      "color      53930 non-null object\n",
      "clarity    53930 non-null object\n",
      "depth      53930 non-null float64\n",
      "table      53930 non-null float64\n",
      "price      53930 non-null int64\n",
      "x          53930 non-null float64\n",
      "y          53930 non-null float64\n",
      "z          53930 non-null float64\n",
      "dtypes: float64(6), int64(1), object(3)\n",
      "memory usage: 4.1+ MB\n",
      "None\n",
      "              carat         depth         table         price             x  \\\n",
      "count  53930.000000  53930.000000  53930.000000  53930.000000  53930.000000   \n",
      "mean       0.797976     61.749325     57.457328   3933.054942      5.731236   \n",
      "std        0.474035      1.432711      2.234578   3989.628569      1.121807   \n",
      "min        0.200000     43.000000     43.000000    326.000000      0.000000   \n",
      "25%        0.400000     61.000000     56.000000    950.000000      4.710000   \n",
      "50%        0.700000     61.800000     57.000000   2401.000000      5.700000   \n",
      "75%        1.040000     62.500000     59.000000   5325.000000      6.540000   \n",
      "max        5.010000     79.000000     95.000000  18823.000000     10.740000   \n",
      "\n",
      "                  y             z  \n",
      "count  53930.000000  53930.000000  \n",
      "mean       5.734601      3.538776  \n",
      "std        1.142184      0.705729  \n",
      "min        0.000000      0.000000  \n",
      "25%        4.720000      2.910000  \n",
      "50%        5.710000      3.530000  \n",
      "75%        6.540000      4.040000  \n",
      "max       58.900000     31.800000  \n"
     ]
    }
   ],
   "source": [
    "# We need it\n",
    "import pandas as pd;\n",
    "\n",
    "krenk_diamonds = {'carat': [0.71, 0.83, 0.5, 0.39, 0.32, 0.9, 0.51, 1.12, 0.4, 0.36],\n",
    "             'cut':  ['Good', 'Ideal', 'Ideal', 'Premium', 'Premium','Good', 'Ideal', 'Ideal', 'Ideal', 'Premium'],\n",
    "                  'color': ['I', 'G', 'E', 'J', 'G', 'F', 'D', 'G', 'G', 'I'],\n",
    "                  'clarity': ['VVS2', 'VS1', 'VS2', 'VS1', 'VS1', 'SI2', 'VS1', 'VVS2', 'VVS2', 'VS2'],\n",
    "                  'depth': [63.1, 62.1, 61.5, 61.6, 62.1, 63.3, 60.9, 62.1, 62.4, 62.7],\n",
    "                  'table': [8,55, 55, 59,56, 57, 57, 54.8, 56, 59],\n",
    "                  'x': [5.64, 6.02, 5.11, 4.67, 4.43, 6.08, 5.2, 6.64, 4.72, 4.54],\n",
    "                  'y': [5.71, 6.05, 5.16, 4.71, 4.4, 6.14, 5.17, 6.66, 4.74, 4.58],\n",
    "                  'z' : [3.58, 3.75, 3.16, 2.89, 2.74, 3.87, 3.16, 4.13, 2.95, 2.86]\n",
    "}\n",
    "\n",
    "krenk_df = pd.DataFrame(krenk_diamonds)\n",
    "\n",
    "df = pd.read_csv('diamonds_data.csv')\n",
    "\n",
    "# peek on data set\n",
    "print(df.info())\n",
    "print(df.describe())"
   ]
  },
  {
   "cell_type": "markdown",
   "metadata": {},
   "source": [
    "No rows without null data. It look's good. \n",
    "\n",
    "I can see a minimum of x,y and x are zero. So, I'll take a look on. "
   ]
  },
  {
   "cell_type": "code",
   "execution_count": 2,
   "metadata": {},
   "outputs": [
    {
     "name": "stdout",
     "output_type": "stream",
     "text": [
      "       carat        cut color clarity  depth  table  price     x     y    z\n",
      "2206    1.00    Premium     G     SI2   59.1   59.0   3142  6.55  6.48  0.0\n",
      "2313    1.01    Premium     H      I1   58.1   59.0   3167  6.66  6.60  0.0\n",
      "4790    1.10    Premium     G     SI2   63.0   59.0   3696  6.50  6.47  0.0\n",
      "5470    1.01    Premium     F     SI2   59.2   58.0   3837  6.50  6.47  0.0\n",
      "10166   1.50       Good     G      I1   64.0   61.0   4731  7.15  7.04  0.0\n",
      "11181   1.07      Ideal     F     SI2   61.6   56.0   4954  0.00  6.62  0.0\n",
      "11961   1.00  Very Good     H     VS2   63.3   53.0   5139  0.00  0.00  0.0\n",
      "13599   1.15      Ideal     G     VS2   59.2   56.0   5564  6.88  6.83  0.0\n",
      "15949   1.14       Fair     G     VS1   57.5   67.0   6381  0.00  0.00  0.0\n",
      "24390   2.18    Premium     H     SI2   59.4   61.0  12631  8.49  8.45  0.0\n",
      "24516   1.56      Ideal     G     VS2   62.2   54.0  12800  0.00  0.00  0.0\n",
      "26119   2.25    Premium     I     SI1   61.3   58.0  15397  8.52  8.42  0.0\n",
      "26239   1.20    Premium     D    VVS1   62.1   59.0  15686  0.00  0.00  0.0\n",
      "27108   2.20    Premium     H     SI1   61.2   59.0  17265  8.42  8.37  0.0\n",
      "27425   2.25    Premium     H     SI2   62.8   59.0  18034  0.00  0.00  0.0\n",
      "27499   2.02    Premium     H     VS2   62.7   53.0  18207  8.02  7.95  0.0\n",
      "27735   2.80       Good     G     SI2   63.8   58.0  18788  8.90  8.85  0.0\n",
      "49547   0.71       Good     F     SI2   64.1   60.0   2130  0.00  0.00  0.0\n",
      "49548   0.71       Good     F     SI2   64.1   60.0   2130  0.00  0.00  0.0\n",
      "51497   1.12    Premium     G      I1   60.4   59.0   2383  6.71  6.67  0.0\n"
     ]
    }
   ],
   "source": [
    "print(df.query('x == 0 or y == 0 or z == 0'))"
   ]
  },
  {
   "cell_type": "markdown",
   "metadata": {},
   "source": [
    "I'm no lapidarist, but diamonds are 3D objects. Hence, there is no possibility to have some dimension with zero value. So I'll drop then from the dataset."
   ]
  },
  {
   "cell_type": "code",
   "execution_count": 3,
   "metadata": {},
   "outputs": [
    {
     "name": "stdout",
     "output_type": "stream",
     "text": [
      "              carat         depth         table         price             x  \\\n",
      "count  53910.000000  53910.000000  53910.000000  53910.000000  53910.000000   \n",
      "mean       0.797734     61.749434     57.456978   3931.248210      5.731706   \n",
      "std        0.473819      1.432420      2.234152   3987.469164      1.119469   \n",
      "min        0.200000     43.000000     43.000000    326.000000      3.730000   \n",
      "25%        0.400000     61.000000     56.000000    949.000000      4.710000   \n",
      "50%        0.700000     61.800000     57.000000   2401.000000      5.700000   \n",
      "75%        1.040000     62.500000     59.000000   5324.000000      6.540000   \n",
      "max        5.010000     79.000000     95.000000  18823.000000     10.740000   \n",
      "\n",
      "                  y             z  \n",
      "count  53910.000000  53910.000000  \n",
      "mean       5.734962      3.540089  \n",
      "std        1.140175      0.702560  \n",
      "min        3.680000      1.070000  \n",
      "25%        4.720000      2.910000  \n",
      "50%        5.710000      3.530000  \n",
      "75%        6.540000      4.040000  \n",
      "max       58.900000     31.800000  \n"
     ]
    }
   ],
   "source": [
    "df.query('x > 0 and y > 0 and z >0', inplace=True)\n",
    "print(df.describe())"
   ]
  },
  {
   "cell_type": "markdown",
   "metadata": {},
   "source": [
    "Now I'll check for categorical values"
   ]
  },
  {
   "cell_type": "code",
   "execution_count": 4,
   "metadata": {},
   "outputs": [
    {
     "name": "stdout",
     "output_type": "stream",
     "text": [
      "['E' 'I' 'J' 'H' 'F' 'G' 'D']\n",
      "['SI2' 'SI1' 'VS1' 'VS2' 'VVS2' 'VVS1' 'I1' 'IF']\n",
      "['Ideal' 'Premium' 'Good' 'Very Good' 'Fair']\n"
     ]
    }
   ],
   "source": [
    "print(df['color'].unique())\n",
    "print(df['clarity'].unique())\n",
    "print(df['cut'].unique())"
   ]
  },
  {
   "cell_type": "markdown",
   "metadata": {},
   "source": [
    "Hence I encode only present values."
   ]
  },
  {
   "cell_type": "code",
   "execution_count": 5,
   "metadata": {
    "collapsed": true
   },
   "outputs": [],
   "source": [
    "clean_cats = {'cut': {'Ideal':5, 'Premium':4, 'Very Good':3, 'Good':2, 'Fair':1},\n",
    "              'color': { 'D':7, 'E':6, 'F': 5, 'G':4, 'H':3,'I':2, 'J':1},\n",
    "              'clarity': {'IF':8, 'VVS1':7,  'VVS2':6, 'VS1':5, 'VS2':4, 'SI2':3, 'SI1':2, 'I1':1 }}\n",
    "\n",
    "df.replace(clean_cats, inplace=True)"
   ]
  },
  {
   "cell_type": "markdown",
   "metadata": {},
   "source": [
    "I do some statistics and plots on the dataset."
   ]
  },
  {
   "cell_type": "code",
   "execution_count": 6,
   "metadata": {},
   "outputs": [
    {
     "data": {
      "image/png": "[encoded data removed]",
      "text/plain": [
       "<matplotlib.figure.Figure at 0x252303ec208>"
      ]
     },
     "metadata": {},
     "output_type": "display_data"
    }
   ],
   "source": [
    "import numpy as np\n",
    "import matplotlib.pyplot as plt\n",
    "import seaborn as sns\n",
    "import collections\n",
    "\n",
    "#correlation matrix \n",
    "corrmat = df.corr()\n",
    "f, ax = plt.subplots(figsize=(12, 9))\n",
    "k = 10 \n",
    "cols = corrmat.nlargest(k, 'price')['price'].index\n",
    "cm = np.corrcoef(df[cols].values.T)\n",
    "\n",
    "# Remove the upper triangle\n",
    "triangle = np.zeros_like(cm, dtype=np.bool)\n",
    "triangle[np.triu_indices_from(triangle)] = True\n",
    "\n",
    "\n",
    "hm = sns.heatmap(cm, vmax=1, mask=triangle, cbar=True, annot=True,  fmt='.2f', annot_kws={'size': 10}, yticklabels=cols.values, xticklabels=cols.values)\n",
    "plt.show()\n"
   ]
  },
  {
   "cell_type": "markdown",
   "metadata": {},
   "source": [
    "We can see, only the **size** matters! \n",
    "\n",
    "I prepare datasets with meaningfull data."
   ]
  },
  {
   "cell_type": "code",
   "execution_count": 7,
   "metadata": {},
   "outputs": [
    {
     "name": "stderr",
     "output_type": "stream",
     "text": [
      "[Parallel(n_jobs=1)]: Done   5 out of   5 | elapsed:    1.1s finished\n"
     ]
    },
    {
     "name": "stdout",
     "output_type": "stream",
     "text": [
      "KNeighbors accuracy:  0.853342641928\n",
      "[ 0.84907073  0.85247526  0.84820512  0.86052243  0.84713853]\n",
      "mean = 0.8514824145222943, std = 0.004860737079760689\n",
      "<class 'numpy.ndarray'>\n"
     ]
    }
   ],
   "source": [
    "X=df[['carat','x','y','z']]\n",
    "y=df['price']\n",
    "\n",
    "\n",
    "krenk_df = krenk_df[['carat','x','y','z']]\n",
    "\n",
    "from sklearn.neighbors import KNeighborsRegressor\n",
    "from sklearn.model_selection import train_test_split\n",
    "from sklearn.model_selection import cross_val_score\n",
    "\n",
    "X_train, X_test, y_train, y_test = train_test_split(X, y, test_size=0.2, random_state=0)\n",
    "\n",
    "\n",
    "classifier = KNeighborsRegressor(n_neighbors=3)\n",
    "classifier.fit(X_train,y_train)\n",
    "accuracies = cross_val_score(estimator = classifier, X = X_train, y = y_train, cv = 5, scoring = 'r2',verbose = 1)\n",
    "print('KNeighbors accuracy: ', classifier.score(X_test,y_test))\n",
    "print(accuracies)\n",
    "print(\"mean = {0}, std = {1}\".format(np.mean(accuracies), np.std(accuracies)))\n",
    "print(type(classifier.predict(krenk_df)))\n",
    "\n"
   ]
  }
 ],
 "metadata": {
  "kernelspec": {
   "display_name": "Python 3",
   "language": "python",
   "name": "python3"
  },
  "language_info": {
   "codemirror_mode": {
    "name": "ipython",
    "version": 3
   },
   "file_extension": ".py",
   "mimetype": "text/x-python",
   "name": "python",
   "nbconvert_exporter": "python",
   "pygments_lexer": "ipython3",
   "version": "3.6.2"
  }
 },
 "nbformat": 4,
 "nbformat_minor": 2
}
