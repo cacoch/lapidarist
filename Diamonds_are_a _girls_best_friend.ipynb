{
 "cells": [
  {
   "attachments": {},
   "cell_type": "markdown",
   "metadata": {},
   "source": [
    "# Diamonds are a girl's best friend\n",
    "\n",
    "We love diamonds.\n",
    "\n",
    "## Characteristics\n",
    "\n",
    "Name | Descriptions\n",
    "-----|--------\n",
    "carat |\tCarat weight of the diamond\n",
    "cut\t| Describe cut quality of the diamond. Quality in increasing order **Fair**, **Good**, **Very Good**, **Premium**, **Ideal**\n",
    "color\t| Color of the diamond, with **D** being the best and **J** the worst\n",
    "clarity\t|How obvious inclusions are within the diamond:(in order from best to worst, FL = flawless, I3= level 3 inclusions) **FL**, **IF**, **VVS1**, **VVS2**, **VS1**, **VS2**, **SI1**, **SI2**, **I1**, **I2**, **I3**\n",
    "depth\t| depth % :The height of a diamond, measured from the culet to the table, divided by its average girdle diameter\n",
    "table | table%: The width of the diamond's table expressed as a percentage of its average diameter\n",
    "price\t| The price of the diamond in muggle money\n",
    "x\t| length of the diamond in mm\n",
    "y\t| width of the diamond in mm\n",
    "z\t| depth of the diamond in mm\n"
   ]
  },
  {
   "cell_type": "code",
   "execution_count": 9,
   "metadata": {},
   "outputs": [
    {
     "name": "stdout",
     "output_type": "stream",
     "text": [
      "<class 'pandas.core.frame.DataFrame'>\n",
      "RangeIndex: 10 entries, 0 to 9\n",
      "Data columns (total 9 columns):\n",
      "carat      10 non-null float64\n",
      "cut        10 non-null object\n",
      "color      10 non-null object\n",
      "clarity    10 non-null object\n",
      "depth      10 non-null float64\n",
      "table      10 non-null float64\n",
      "x          10 non-null float64\n",
      "y          10 non-null float64\n",
      "z          10 non-null float64\n",
      "dtypes: float64(6), object(3)\n",
      "memory usage: 800.0+ bytes\n",
      "None\n",
      "<class 'pandas.core.frame.DataFrame'>\n",
      "RangeIndex: 53930 entries, 0 to 53929\n",
      "Data columns (total 10 columns):\n",
      "carat      53930 non-null float64\n",
      "cut        53930 non-null object\n",
      "color      53930 non-null object\n",
      "clarity    53930 non-null object\n",
      "depth      53930 non-null float64\n",
      "table      53930 non-null float64\n",
      "price      53930 non-null int64\n",
      "x          53930 non-null float64\n",
      "y          53930 non-null float64\n",
      "z          53930 non-null float64\n",
      "dtypes: float64(6), int64(1), object(3)\n",
      "memory usage: 4.1+ MB\n",
      "None\n",
      "              carat         depth         table         price             x  \\\n",
      "count  53930.000000  53930.000000  53930.000000  53930.000000  53930.000000   \n",
      "mean       0.797976     61.749325     57.457328   3933.054942      5.731236   \n",
      "std        0.474035      1.432711      2.234578   3989.628569      1.121807   \n",
      "min        0.200000     43.000000     43.000000    326.000000      0.000000   \n",
      "25%        0.400000     61.000000     56.000000    950.000000      4.710000   \n",
      "50%        0.700000     61.800000     57.000000   2401.000000      5.700000   \n",
      "75%        1.040000     62.500000     59.000000   5325.000000      6.540000   \n",
      "max        5.010000     79.000000     95.000000  18823.000000     10.740000   \n",
      "\n",
      "                  y             z  \n",
      "count  53930.000000  53930.000000  \n",
      "mean       5.734601      3.538776  \n",
      "std        1.142184      0.705729  \n",
      "min        0.000000      0.000000  \n",
      "25%        4.720000      2.910000  \n",
      "50%        5.710000      3.530000  \n",
      "75%        6.540000      4.040000  \n",
      "max       58.900000     31.800000  \n"
     ]
    }
   ],
   "source": [
    "import pandas as pd;\n",
    "\n",
    "krenk_diamonds = {'carat': [0.71, 0.83, 0.5, 0.39, 0.32, 0.9, 0.51, 1.12, 0.4, 0.36],\n",
    "'cut':  ['Good', 'Ideal', 'Ideal', 'Premium', 'Premium','Good', 'Ideal', 'Ideal', 'Ideal', 'Premium'],\n",
    "                  'color': ['I', 'G', 'E', 'J', 'G', 'F', 'D', 'G', 'G', 'I'],\n",
    "                  'clarity': ['VVS2', 'VS1', 'VS2', 'VS1', 'VS1', 'SI2', 'VS1', 'VVS2', 'VVS2', 'VS2'],\n",
    "                  'depth': [63.1, 62.1, 61.5, 61.6, 62.1, 63.3, 60.9, 62.1, 62.4, 62.7],\n",
    "                  'table': [8,55, 55, 59,56, 57, 57, 54.8, 56, 59],\n",
    "                  'x': [5.64, 6.02, 5.11, 4.67, 4.43, 6.08, 5.2, 6.64, 4.72, 4.54],\n",
    "                  'y': [5.71, 6.05, 5.16, 4.71, 4.4, 6.14, 5.17, 6.66, 4.74, 4.58],\n",
    "                  'z' : [3.58, 3.75, 3.16, 2.89, 2.74, 3.87, 3.16, 4.13, 2.95, 2.86]\n",
    "}\n",
    "\n",
    "krenk_df = pd.DataFrame(krenk_diamonds)\n",
    "\n",
    "df = pd.read_csv('diamonds_data.csv')\n",
    "print(krenk_df.info())\n",
    "\n",
    "print(df.info())\n",
    "print(df.describe())\n"
   ]
  },
  {
   "cell_type": "code",
   "execution_count": null,
   "metadata": {
    "collapsed": true
   },
   "outputs": [],
   "source": []
  }
 ],
 "metadata": {
  "kernelspec": {
   "display_name": "Python 3",
   "language": "python",
   "name": "python3"
  },
  "language_info": {
   "codemirror_mode": {
    "name": "ipython",
    "version": 3
   },
   "file_extension": ".py",
   "mimetype": "text/x-python",
   "name": "python",
   "nbconvert_exporter": "python",
   "pygments_lexer": "ipython3",
   "version": "3.6.2"
  }
 },
 "nbformat": 4,
 "nbformat_minor": 2
}
